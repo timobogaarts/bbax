{
 "cells": [
  {
   "cell_type": "code",
   "execution_count": 1,
   "id": "404c04e4",
   "metadata": {},
   "outputs": [],
   "source": [
    "import numpy as np\n",
    "import basix\n",
    "import matplotlib.pyplot as plt\n",
    "from basix import CellType, ElementFamily, LagrangeVariant, LatticeType\n",
    "import jax_pn\n",
    "from jax.experimental import sparse\n",
    "import jax.numpy as jnp\n",
    "import jax\n",
    "%load_ext autoreload\n",
    "%autoreload 2\n",
    "import jax\n",
    "jax.config.update(\"jax_enable_x64\", True)"
   ]
  },
  {
   "cell_type": "code",
   "execution_count": 2,
   "id": "5559fb25",
   "metadata": {},
   "outputs": [
    {
     "name": "stdout",
     "output_type": "stream",
     "text": [
      "Solving system with shape: (1608, 1608) and 1608 equations.\n"
     ]
    }
   ],
   "source": [
    "lagrange    = basix.create_element(ElementFamily.P, CellType.interval, degree= 5, lagrange_variant= LagrangeVariant.gll_warped)\n",
    "N_max = 3\n",
    "elements_per_cm = 10\n",
    "regions = [\n",
    "    (2.0, [20.0], np.array([[[0.0]]]), [20.0]),\n",
    "    (1.0, [1.0],  np.array([[[0.0]]]),  [0.0]),\n",
    "    (2.0, [0.0],  np.array([[[0.0]]]),  [0.0]),\n",
    "    (1.0, [1.0],  np.array([[[0.9]]]), [1.0]),\n",
    "    (2.0, [1.0],  np.array([[[0.9]]]), [0.0]),\n",
    "]\n",
    "\n",
    "\n",
    "dpn_prob = jax_pn.DPN.DPN_Problem.from_regions_per_cm(regions, elements_per_cm, N_max, lagrange, L_scat=0)\n",
    "pn_prob  = jax_pn.PN.PN_Problem.from_regions_per_cm(regions, elements_per_cm, N_max, lagrange, L_scat=0)\n",
    "adpn_prob = jax_pn.ADPN.ADPN_Problem.from_regions_per_cm(regions, elements_per_cm, N_max, lagrange, L_scat=0)\n",
    "\n",
    "sol =adpn_prob.Solve_Multigroup_System('vacuum',1)"
   ]
  },
  {
   "cell_type": "code",
   "execution_count": 3,
   "id": "281709bb",
   "metadata": {},
   "outputs": [
    {
     "name": "stdout",
     "output_type": "stream",
     "text": [
      "Difference:  6.071532165918825e-16\n"
     ]
    }
   ],
   "source": [
    "from jax_pn.ADPN import residualPN_jit, GlobalSettings\n",
    "parameters_eg = {\n",
    "    'sigma_t_i'       : adpn_prob.jax_sigma_t[:, 0],\n",
    "    'sigma_s_k_i_gg'  : adpn_prob.jax_sigma_s[:, :, 0, 0],\n",
    "    'h_i'             : adpn_prob.jax_h_i,\n",
    "    'q_i_k_j'         : adpn_prob.jax_q_i_k_j[:, :, :, 0]\n",
    "}\n",
    "\n",
    "solution = jnp.array(adpn_prob.solution) + 1.2\n",
    "\n",
    "def residual_naive(global_settings : GlobalSettings, matrix_settings, parameters, solution):\n",
    "    data, rows, cols, bdata, brows = jax_pn.ADPN.total_matrix_assembly_vacuum_bcs_single_g_jit(global_settings, matrix_settings, parameters)\n",
    "    total_dofs = global_settings.n_dofs_per_eg    \n",
    "    \n",
    "    indices = jnp.stack([rows, cols], axis=1)\n",
    "    A_total = jax.experimental.sparse.BCOO((data, indices), shape=(total_dofs, total_dofs))\n",
    "    b_cols = jnp.zeros_like(brows)\n",
    "    b_indices = jnp.stack([brows, b_cols], axis=1)    \n",
    "    b_total = jax.experimental.sparse.BCOO((bdata, b_indices), shape=(total_dofs, 1))        \n",
    "\n",
    "    return (A_total @ solution - b_total.todense()[:,0])\n",
    "\n",
    "np.set_printoptions(precision=12)\n",
    "res_old = residualPN_jit(adpn_prob.global_settings, adpn_prob.matrix_settings, parameters_eg, solution)\n",
    "res_new = residual_naive(adpn_prob.global_settings, adpn_prob.matrix_settings, parameters_eg, solution)\n",
    "\n",
    "print(\"Difference: \", np.max(np.abs(res_old - res_new)))"
   ]
  },
  {
   "cell_type": "code",
   "execution_count": 4,
   "id": "15325cad",
   "metadata": {},
   "outputs": [],
   "source": [
    "#%timeit residualPN_jit(adpn_prob.global_settings, adpn_prob.matrix_settings, parameters_eg, solution).block_until_ready()\n",
    "#%timeit residual_naive(adpn_prob.global_settings, adpn_prob.matrix_settings, parameters_eg, solution).block_until_ready()"
   ]
  },
  {
   "cell_type": "code",
   "execution_count": 5,
   "id": "a72360a3",
   "metadata": {},
   "outputs": [],
   "source": [
    "jac_A= jax.jit(jax.jacrev(residualPN_jit, argnums = (3,)), static_argnums = 0)"
   ]
  },
  {
   "cell_type": "code",
   "execution_count": 6,
   "id": "1fc185b9",
   "metadata": {},
   "outputs": [
    {
     "name": "stdout",
     "output_type": "stream",
     "text": [
      "5.551115123125783e-17\n"
     ]
    }
   ],
   "source": [
    "def A_total_f(global_settings : GlobalSettings, matrix_settings, parameters, solution):\n",
    "    data, rows, cols, bdata, brows = jax_pn.ADPN.total_matrix_assembly_vacuum_bcs_single_g_jit(global_settings, matrix_settings, parameters)\n",
    "    total_dofs = global_settings.n_dofs_per_eg\n",
    "        \n",
    "    indices = jnp.stack([rows, cols], axis=1)\n",
    "    A_total = jax.experimental.sparse.BCOO((data, indices), shape=(total_dofs, total_dofs))\n",
    "    return A_total\n",
    "\n",
    "a_normal = A_total_f(adpn_prob.global_settings, adpn_prob.matrix_settings, parameters_eg, solution).todense()\n",
    "Ares = jac_A(adpn_prob.global_settings, adpn_prob.matrix_settings, parameters_eg, solution)[0]\n",
    "print(np.max(np.abs(a_normal - Ares)))"
   ]
  },
  {
   "cell_type": "code",
   "execution_count": 7,
   "id": "219a658f",
   "metadata": {},
   "outputs": [],
   "source": [
    "def edge_flux(sol, settings : GlobalSettings):\n",
    "   right_dof = settings.right_dof\n",
    "   return sol[right_dof]"
   ]
  },
  {
   "cell_type": "code",
   "execution_count": 8,
   "id": "8d28c5f5",
   "metadata": {},
   "outputs": [
    {
     "name": "stdout",
     "output_type": "stream",
     "text": [
      "[ 1.570602919567e-03 -1.956439323124e-03  2.421829364644e-03 ...\n",
      " -1.281609255364e+00 -6.155900403630e-07  8.112819637707e-01]\n"
     ]
    }
   ],
   "source": [
    "dfdx = jax.grad(edge_flux, argnums = 0)(solution, adpn_prob.global_settings)\n",
    "\n",
    "at_jax = A_total_f(adpn_prob.global_settings, adpn_prob.matrix_settings, parameters_eg, solution).T\n",
    "\n",
    "data = np.array(at_jax.data)\n",
    "indices = np.array(at_jax.indices)\n",
    "shape = at_jax.shape\n",
    "import scipy \n",
    "import scipy.sparse as sp\n",
    "at_scipy = scipy.sparse.coo_matrix((data, indices.T), shape=shape).tocsr()\n",
    "adjoint_var = sp.linalg.spsolve(at_scipy, np.array(dfdx))\n",
    "print(adjoint_var)"
   ]
  },
  {
   "cell_type": "code",
   "execution_count": 9,
   "id": "7843b132",
   "metadata": {},
   "outputs": [],
   "source": [
    "drdtheta = jax.jacfwd(residualPN_jit, argnums = 2)"
   ]
  },
  {
   "cell_type": "code",
   "execution_count": 10,
   "id": "1dbe7546",
   "metadata": {},
   "outputs": [
    {
     "name": "stdout",
     "output_type": "stream",
     "text": [
      "[ 1.570602919567e-03 -1.956439323124e-03  2.421829364644e-03 ...\n",
      " -1.281609255364e+00 -6.155900403630e-07  8.112819637707e-01] [[-0.483012503807 -0.             -0.             ... -0.\n",
      "  -0.             -0.            ]\n",
      " [-0.786075789506 -0.787555543157 -0.             ... -0.\n",
      "  -0.             -0.            ]\n",
      " [-0.             -0.798979384697 -0.799090016017 ... -0.\n",
      "  -0.             -0.            ]\n",
      " ...\n",
      " [-0.             -0.             -0.             ... -0.\n",
      "  -0.             -0.            ]\n",
      " [-0.             -0.             -0.             ... -0.\n",
      "  -0.             -0.            ]\n",
      " [-0.             -0.             -0.             ... -0.\n",
      "  -0.             -0.            ]]\n",
      "[-1.754317952031e-05  9.488726076914e-06 -6.523683253780e-06\n",
      "  5.471572523603e-06 -3.097568769511e-06  1.137929687978e-06\n",
      "  3.871952596515e-06 -1.106850440542e-05  2.548548665109e-05\n",
      " -4.896553160071e-05  9.110166717825e-05 -1.613760903858e-04\n",
      "  2.819200860513e-04 -4.849885969828e-04  8.109899263765e-04\n",
      " -1.522147955032e-03  1.004451802021e-03 -1.754364856902e-02\n",
      " -1.323992063667e-01 -1.383440402551e+00 -2.016727164187e-01\n",
      " -2.224069427970e-01 -2.447477668108e-01 -2.686706728816e-01\n",
      " -2.940461822792e-01 -3.205988244673e-01 -3.478493823846e-01\n",
      " -3.750356505217e-01 -4.010033823180e-01 -4.240585131219e-01\n",
      "  0.000000000000e+00  0.000000000000e+00  0.000000000000e+00\n",
      "  0.000000000000e+00  0.000000000000e+00  0.000000000000e+00\n",
      "  0.000000000000e+00  0.000000000000e+00  0.000000000000e+00\n",
      "  0.000000000000e+00  0.000000000000e+00  0.000000000000e+00\n",
      "  0.000000000000e+00  0.000000000000e+00  0.000000000000e+00\n",
      "  0.000000000000e+00  0.000000000000e+00  0.000000000000e+00\n",
      "  0.000000000000e+00  0.000000000000e+00 -8.640634810907e-02\n",
      " -9.958452664686e-02 -1.127757075653e-01 -1.259830506906e-01\n",
      " -1.391722746759e-01 -1.522685345124e-01 -1.651515247689e-01\n",
      " -1.776484874862e-01 -1.895249309214e-01 -2.004725500684e-01\n",
      " -5.600435344451e-01 -5.678329632526e-01 -5.731523925204e-01\n",
      " -5.752017747929e-01 -5.729823060405e-01 -5.652510871159e-01\n",
      " -5.504652711463e-01 -5.267133057780e-01 -4.916303637440e-01\n",
      " -4.422943484961e-01 -3.750980765875e-01 -2.855921871881e-01\n",
      " -1.682921300977e-01 -1.644101697550e-02  1.782817068646e-01\n",
      "  4.261181546493e-01  7.396716158494e-01  1.134446571623e+00\n",
      "  1.629511989944e+00  2.248316056485e+00]\n"
     ]
    }
   ],
   "source": [
    "drdtheta_res = drdtheta(adpn_prob.global_settings, adpn_prob.matrix_settings, parameters_eg, solution)\n",
    "print(adjoint_var, - np.array(drdtheta_res['h_i']))\n",
    "dfdh = np.einsum(\"i, ik->k\", adjoint_var, - np.array(drdtheta_res['h_i']))\n",
    "print(dfdh)"
   ]
  },
  {
   "cell_type": "code",
   "execution_count": 20,
   "id": "eb106fd7",
   "metadata": {},
   "outputs": [
    {
     "name": "stdout",
     "output_type": "stream",
     "text": [
      "[ 1.570602919567e-03 -1.956439323124e-03  2.421829364644e-03 ...\n",
      " -1.281609255364e+00 -6.155900403630e-07  8.112819637707e-01] [[-0.483012503807 -0.             -0.             ... -0.\n",
      "  -0.             -0.            ]\n",
      " [-0.786075789506 -0.787555543157 -0.             ... -0.\n",
      "  -0.             -0.            ]\n",
      " [-0.             -0.798979384697 -0.799090016017 ... -0.\n",
      "  -0.             -0.            ]\n",
      " ...\n",
      " [-0.             -0.             -0.             ... -0.\n",
      "  -0.             -0.            ]\n",
      " [-0.             -0.             -0.             ... -0.\n",
      "  -0.             -0.            ]\n",
      " [-0.             -0.             -0.             ... -0.\n",
      "  -0.             -0.            ]]\n",
      "[-1.754317952031e-05  9.488726076914e-06 -6.523683253780e-06\n",
      "  5.471572523603e-06 -3.097568769511e-06  1.137929687978e-06\n",
      "  3.871952596515e-06 -1.106850440542e-05  2.548548665109e-05\n",
      " -4.896553160071e-05  9.110166717825e-05 -1.613760903858e-04\n",
      "  2.819200860513e-04 -4.849885969828e-04  8.109899263765e-04\n",
      " -1.522147955032e-03  1.004451802021e-03 -1.754364856902e-02\n",
      " -1.323992063667e-01 -1.383440402551e+00 -2.016727164187e-01\n",
      " -2.224069427970e-01 -2.447477668108e-01 -2.686706728816e-01\n",
      " -2.940461822792e-01 -3.205988244673e-01 -3.478493823846e-01\n",
      " -3.750356505217e-01 -4.010033823180e-01 -4.240585131219e-01\n",
      "  0.000000000000e+00  0.000000000000e+00  0.000000000000e+00\n",
      "  0.000000000000e+00  0.000000000000e+00  0.000000000000e+00\n",
      "  0.000000000000e+00  0.000000000000e+00  0.000000000000e+00\n",
      "  0.000000000000e+00  0.000000000000e+00  0.000000000000e+00\n",
      "  0.000000000000e+00  0.000000000000e+00  0.000000000000e+00\n",
      "  0.000000000000e+00  0.000000000000e+00  0.000000000000e+00\n",
      "  0.000000000000e+00  0.000000000000e+00 -8.640634810907e-02\n",
      " -9.958452664686e-02 -1.127757075653e-01 -1.259830506906e-01\n",
      " -1.391722746759e-01 -1.522685345124e-01 -1.651515247689e-01\n",
      " -1.776484874862e-01 -1.895249309214e-01 -2.004725500684e-01\n",
      " -5.600435344451e-01 -5.678329632526e-01 -5.731523925204e-01\n",
      " -5.752017747929e-01 -5.729823060405e-01 -5.652510871159e-01\n",
      " -5.504652711463e-01 -5.267133057780e-01 -4.916303637440e-01\n",
      " -4.422943484961e-01 -3.750980765875e-01 -2.855921871881e-01\n",
      " -1.682921300977e-01 -1.644101697550e-02  1.782817068646e-01\n",
      "  4.261181546493e-01  7.396716158494e-01  1.134446571623e+00\n",
      "  1.629511989944e+00  2.248316056485e+00]\n"
     ]
    }
   ],
   "source": [
    "drdtheta_res = drdtheta(adpn_prob.global_settings, adpn_prob.matrix_settings, parameters_eg, solution)\n",
    "print(adjoint_var, - np.array(drdtheta_res['h_i']))\n",
    "dfdh = np.einsum(\"i, ik->k\", adjoint_var, - np.array(drdtheta_res['h_i']))\n",
    "print(dfdh)"
   ]
  },
  {
   "cell_type": "code",
   "execution_count": 12,
   "id": "e1ef6c55",
   "metadata": {},
   "outputs": [
    {
     "ename": "ValueError",
     "evalue": "Stop here, the rest of the code is not needed for the adjoint test.",
     "output_type": "error",
     "traceback": [
      "\u001b[31m---------------------------------------------------------------------------\u001b[39m",
      "\u001b[31mValueError\u001b[39m                                Traceback (most recent call last)",
      "\u001b[36mCell\u001b[39m\u001b[36m \u001b[39m\u001b[32mIn[12]\u001b[39m\u001b[32m, line 1\u001b[39m\n\u001b[32m----> \u001b[39m\u001b[32m1\u001b[39m \u001b[38;5;28;01mraise\u001b[39;00m \u001b[38;5;167;01mValueError\u001b[39;00m(\u001b[33m\"\u001b[39m\u001b[33mStop here, the rest of the code is not needed for the adjoint test.\u001b[39m\u001b[33m\"\u001b[39m)\n",
      "\u001b[31mValueError\u001b[39m: Stop here, the rest of the code is not needed for the adjoint test."
     ]
    }
   ],
   "source": [
    "raise ValueError(\"Stop here, the rest of the code is not needed for the adjoint test.\")"
   ]
  },
  {
   "cell_type": "code",
   "execution_count": 21,
   "id": "e52da040",
   "metadata": {},
   "outputs": [
    {
     "name": "stdout",
     "output_type": "stream",
     "text": [
      "(1608, 80, 4)\n"
     ]
    }
   ],
   "source": [
    "sigma_s_ki_gg = np.array(drdtheta_res['sigma_s_k_i_gg'])\n",
    "print(sigma_s_ki_gg.shape)\n",
    "dfdsigma_s = np.einsum(\"i, ikl->kl\", adjoint_var, -sigma_s_ki_gg)\n"
   ]
  },
  {
   "cell_type": "code",
   "execution_count": 22,
   "id": "07e940ec",
   "metadata": {},
   "outputs": [
    {
     "name": "stdout",
     "output_type": "stream",
     "text": [
      "2.2483160564849967\n",
      "-0.2016727164186521\n"
     ]
    }
   ],
   "source": [
    "dfdh_edge = dfdh[-1]\n",
    "print(dfdh_edge)\n",
    "\n",
    "print(dfdh[-60])"
   ]
  },
  {
   "cell_type": "code",
   "execution_count": 18,
   "id": "585d8c37",
   "metadata": {},
   "outputs": [
    {
     "name": "stdout",
     "output_type": "stream",
     "text": [
      "-1.7543179520307546e-05\n",
      "-5.588058349381697e-06\n",
      "0.10017789537042807\n",
      "0.010538375616597762\n"
     ]
    }
   ],
   "source": [
    "def finite_difference_h(index, stepsize = 1e-4):\n",
    "    h_i_default = np.array(adpn_prob.jax_h_i)\n",
    "\n",
    "    def compute_with_param(parameters_eg):\n",
    "        a = jax_pn.ADPN.total_matrix_assembly_vacuum_bcs_single_g_jit(adpn_prob.global_settings, adpn_prob.matrix_settings, parameters_eg)\n",
    "        A_total = scipy.sparse.coo_matrix((a[0], (a[1], a[2])), shape=(adpn_prob.global_settings.n_dofs_per_eg, adpn_prob.global_settings.n_dofs_per_eg)).tocsr()\n",
    "        b_total = scipy.sparse.coo_matrix((a[3], (a[4], np.zeros_like(a[4]))), shape=(adpn_prob.global_settings.n_dofs_per_eg, 1)).tocsr()\n",
    "        u_base  = sp.linalg.spsolve(A_total, b_total.todense()[:,0])\n",
    "        return edge_flux(u_base, adpn_prob.global_settings)\n",
    "    \n",
    "    parameters_eg = {\n",
    "        'sigma_t_i'       : adpn_prob.jax_sigma_t[:, 0],\n",
    "        'sigma_s_k_i_gg'  : adpn_prob.jax_sigma_s[:, :, 0, 0],\n",
    "        'h_i'             : h_i_default,\n",
    "        'q_i_k_j'         : adpn_prob.jax_q_i_k_j[:, :, :, 0]\n",
    "    }\n",
    "    base = compute_with_param(parameters_eg)\n",
    "    h_i_perturbed = np.copy(h_i_default)\n",
    "    h_i_perturbed[index] += stepsize\n",
    "    parameters_eg['h_i'] = h_i_perturbed    \n",
    "    edge = compute_with_param(parameters_eg)\n",
    "    print((edge - base) / stepsize)\n",
    "    \n",
    "index = 0 \n",
    "print(dfdh[index])\n",
    "finite_difference_h(index)\n",
    "\n",
    "\n",
    "def finite_difference_sigma_s(index,l_value,  stepsize = 1e-4):\n",
    "    \n",
    "\n",
    "    def compute_with_param(parameters_eg):\n",
    "        a = jax_pn.ADPN.total_matrix_assembly_vacuum_bcs_single_g_jit(adpn_prob.global_settings, adpn_prob.matrix_settings, parameters_eg)\n",
    "        A_total = scipy.sparse.coo_matrix((a[0], (a[1], a[2])), shape=(adpn_prob.global_settings.n_dofs_per_eg, adpn_prob.global_settings.n_dofs_per_eg)).tocsr()\n",
    "        b_total = scipy.sparse.coo_matrix((a[3], (a[4], np.zeros_like(a[4]))), shape=(adpn_prob.global_settings.n_dofs_per_eg, 1)).tocsr()\n",
    "        u_base  = sp.linalg.spsolve(A_total, b_total.todense()[:,0])\n",
    "        return edge_flux(u_base, adpn_prob.global_settings)\n",
    "    \n",
    "    sigma_s_default = adpn_prob.jax_sigma_s[:, :, 0, 0]\n",
    "    parameters_eg = {\n",
    "        'sigma_t_i'       : adpn_prob.jax_sigma_t[:, 0],\n",
    "        'sigma_s_k_i_gg'  : sigma_s_default,\n",
    "        'h_i'             : adpn_prob.jax_h_i,\n",
    "        'q_i_k_j'         : adpn_prob.jax_q_i_k_j[:, :, :, 0]\n",
    "    }\n",
    "\n",
    "    base = compute_with_param(parameters_eg)\n",
    "\n",
    "    sigma_s_perturbed = np.copy(sigma_s_default)\n",
    "    sigma_s_perturbed[index, l_value] += stepsize #* sigma_s_perturbed[index, l_value] \n",
    "    \n",
    "    parameters_eg['sigma_s_k_i_gg'] = sigma_s_perturbed\n",
    "    edge = compute_with_param(parameters_eg)\n",
    "    print((edge - base) / stepsize)\n",
    "    \n",
    "index = - 1 \n",
    "l_value = 1\n",
    "print(dfdsigma_s[index, l_value])\n",
    "finite_difference_sigma_s(index, l_value, stepsize=1e-6)\n"
   ]
  },
  {
   "cell_type": "markdown",
   "id": "68ec1ccf",
   "metadata": {},
   "source": [
    "### Implementation\n",
    "\n",
    "We have 2 objective functions:\n",
    "\n",
    "1. The flux at $x=5$\n",
    "2. The flux at $x=8$"
   ]
  },
  {
   "cell_type": "code",
   "execution_count": null,
   "id": "2ec9f520",
   "metadata": {},
   "outputs": [
    {
     "name": "stdout",
     "output_type": "stream",
     "text": [
      "0.24351924850098738\n",
      "1.2125756808954822\n"
     ]
    }
   ],
   "source": [
    "from jax_pn.ADPN import GlobalSettings\n",
    "def edge_flux(sol, settings : GlobalSettings):\n",
    "    right_dof = settings.right_dof\n",
    "    return sol[right_dof]\n",
    "\n",
    "def five_flux(sol, settings : GlobalSettings, nodes):\n",
    "    # assumes equal spacing of nodes\n",
    "    n_nodes = settings.right_dof + 1\n",
    "    val_node = ( (n_nodes -1) * 5) / 8\n",
    "    val_node = int(val_node)\n",
    "    return sol[val_node]\n",
    "\n",
    "print(edge_flux(sol, adpn_prob.global_settings))\n",
    "print(five_flux(sol, adpn_prob.global_settings, adpn_prob.nodes))"
   ]
  },
  {
   "cell_type": "code",
   "execution_count": null,
   "id": "0d947ef5",
   "metadata": {},
   "outputs": [],
   "source": [
    "import jax\n",
    "def residual(global_settings : GlobalSettings, total_dofs : int, matrix_settings, parameters, solution):\n",
    "    data, rows, cols, bdata, brows = jax_pn.ADPN.total_matrix_assembly_vacuum_bcs_single_g_jit(global_settings, matrix_settings, parameters)\n",
    "    indices = jnp.stack([rows, cols], axis=1)\n",
    "    A_total = jax.experimental.sparse.BCOO((data, indices), shape=(total_dofs, total_dofs))    \n",
    "    b_cols = jnp.zeros_like(brows)\n",
    "    b_indices = jnp.stack([brows, b_cols], axis=1)    \n",
    "    b_total = jax.experimental.sparse.BCOO((bdata, b_indices), shape=(total_dofs, 1))        \n",
    "\n",
    "    return A_total @ solution - b_total.todense()[:,0]\n",
    "\n",
    "solution = jnp.array(adpn_prob.solution)\n",
    "parameters_eg = {\n",
    "    'sigma_t_i'       : adpn_prob.jax_sigma_t[:, 0],\n",
    "    'sigma_s_k_i_gg'  : adpn_prob.jax_sigma_s[:, :, 0, 0],\n",
    "    'h_i'             : adpn_prob.jax_h_i,\n",
    "    'q_i_k_j'         : adpn_prob.jax_q_i_k_j[:, :, :, 0]\n",
    "}\n",
    "\n",
    "residual_jit = jax.jit(residual, static_argnums=(0,1))\n",
    "\n",
    "jac_res = jax.jacrev(residual_jit, argnums = (4))\n",
    "adata, rows, cols, _, _ = jax_pn.ADPN.total_matrix_assembly_vacuum_bcs_single_g_jit(adpn_prob.global_settings, adpn_prob.matrix_settings, parameters = parameters_eg)\n",
    "indices = jnp.stack([rows, cols], axis=1)\n",
    "A_total                = jax.experimental.sparse.BCOO((adata, indices), shape=(adpn_prob.dofs_per_eg, adpn_prob.dofs_per_eg))    "
   ]
  },
  {
   "cell_type": "code",
   "execution_count": null,
   "id": "7377f84b",
   "metadata": {},
   "outputs": [
    {
     "name": "stdout",
     "output_type": "stream",
     "text": [
      "0.0\n"
     ]
    }
   ],
   "source": [
    "A2 = jac_res(adpn_prob.global_settings, adpn_prob.dofs_per_eg, adpn_prob.matrix_settings, parameters_eg, solution)\n",
    "\n",
    "print(jnp.max(A2 - A_total.todense()))"
   ]
  },
  {
   "cell_type": "markdown",
   "id": "e1978855",
   "metadata": {},
   "source": [
    "#### Direct"
   ]
  },
  {
   "cell_type": "code",
   "execution_count": null,
   "id": "0fd66077",
   "metadata": {},
   "outputs": [],
   "source": [
    "\n",
    "# dA/dtheta & db/dtheta\n",
    "energy_group = 0\n",
    "parameters_eg = {\n",
    "    'sigma_t_i'       : adpn_prob.jax_sigma_t[:, energy_group],\n",
    "    'sigma_s_k_i_gg'  : adpn_prob.jax_sigma_s[:, :, energy_group, energy_group],\n",
    "    'h_i'             : adpn_prob.jax_h_i,\n",
    "    'q_i_k_j'         : adpn_prob.jax_q_i_k_j[:, :, :, energy_group]\n",
    "}\n",
    "adata, rows, val, _, _ =jax_pn.ADPN.total_matrix_assembly_vacuum_bcs_single_g_jit(adpn_prob.global_settings, adpn_prob.matrix_settings, parameters = parameters_eg)"
   ]
  },
  {
   "cell_type": "code",
   "execution_count": null,
   "id": "d3dbfdd7",
   "metadata": {},
   "outputs": [
    {
     "data": {
      "text/plain": [
       "BCOO(float64[1608, 1608], nse=34592)"
      ]
     },
     "execution_count": 19,
     "metadata": {},
     "output_type": "execute_result"
    }
   ],
   "source": [
    "import jax\n",
    "def generate_A(global_settings : GlobalSettings, total_dofs : int,  matrix_settings, sigma_s):\n",
    "    energy_group = 0\n",
    "    sigma_t = matrix_settings['sigma_t'][:, energy_group]\n",
    "    h_i     = matrix_settings['h_i']\n",
    "    q_i_k_j = matrix_settings['q_i_k_j'][:, :, :, energy_group]\n",
    "\n",
    "    no_elements = global_settings.n_elements\n",
    "    n_moments =  global_settings.n_moments    \n",
    "\n",
    "    # Calculate split index for 5/8 and 3/8\n",
    "    split_idx = int(no_elements * 5 / 8)\n",
    "\n",
    "    # Create the array\n",
    "    sigma_s_new = jnp.zeros((no_elements, n_moments))\n",
    "    sigma_s_new = sigma_s_new.at[split_idx:, 0].set(sigma_s)\n",
    "\n",
    "    parameters_eg = {\n",
    "        'sigma_t_i'       : sigma_t,\n",
    "        'sigma_s_k_i_gg'  : sigma_s_new,\n",
    "        'h_i'             : h_i,\n",
    "        'q_i_k_j'         : q_i_k_j\n",
    "    }\n",
    "    data, rows, cols, bdata, brows = jax_pn.ADPN.total_matrix_assembly_vacuum_bcs_single_g_jit(global_settings, matrix_settings, parameters_eg)\n",
    "\n",
    "    # BCOO expects indices as a single array of shape (nnz, ndim)\n",
    "    indices = jnp.stack([rows, cols], axis=-1)\n",
    "    A_total = jax.experimental.sparse.BCOO((data, indices), shape=(total_dofs, total_dofs))\n",
    "\n",
    "    return A_total\n",
    "\n",
    "m2 = adpn_prob.matrix_settings\n",
    "m2[\"sigma_t\"] = adpn_prob.jax_sigma_t\n",
    "m2[\"h_i\"] = adpn_prob.jax_h_i\n",
    "m2[\"q_i_k_j\"] = adpn_prob.jax_q_i_k_j\n",
    "m2['total_dofs'] = adpn_prob.dofs_per_eg\n",
    "\n",
    "generate_A(adpn_prob.global_settings, adpn_prob.dofs_per_eg, m2, 0.9)"
   ]
  },
  {
   "cell_type": "code",
   "execution_count": null,
   "id": "8f80daec",
   "metadata": {},
   "outputs": [
    {
     "data": {
      "text/plain": [
       "BCOO(float64[1608, 1608], nse=34592)"
      ]
     },
     "execution_count": 20,
     "metadata": {},
     "output_type": "execute_result"
    }
   ],
   "source": [
    "import jax\n",
    "def generate_A(global_settings : GlobalSettings, total_dofs : int,  matrix_settings, sigma_s):\n",
    "    energy_group = 0\n",
    "    sigma_t = matrix_settings['sigma_t'][:, energy_group]\n",
    "    h_i     = matrix_settings['h_i']\n",
    "    q_i_k_j = matrix_settings['q_i_k_j'][:, :, :, energy_group]\n",
    "\n",
    "    no_elements = global_settings.n_elements\n",
    "    n_moments =  global_settings.n_moments    \n",
    "\n",
    "    # Calculate split index for 5/8 and 3/8\n",
    "    split_idx = int(no_elements * 5 / 8)\n",
    "\n",
    "# Create the array\n",
    "    sigma_s_new = jnp.zeros((no_elements, n_moments))\n",
    "    sigma_s_new = sigma_s_new.at[split_idx:, 0].set(sigma_s)\n",
    "\n",
    "    parameters_eg = {\n",
    "        'sigma_t_i'       : sigma_t,\n",
    "        'sigma_s_k_i_gg'  : sigma_s_new,\n",
    "        'h_i'             : h_i,\n",
    "        'q_i_k_j'         : q_i_k_j\n",
    "    }\n",
    "    data, rows, cols, bdata, brows = jax_pn.ADPN.total_matrix_assembly_vacuum_bcs_single_g_jit(global_settings, matrix_settings, parameters_eg)\n",
    "    indices = jnp.stack([rows, cols], axis=1)\n",
    "    A_total = jax.experimental.sparse.BCOO((data,indices), shape=(total_dofs, total_dofs))\n",
    "    \n",
    "    return A_total\n",
    "\n",
    "m2 = adpn_prob.matrix_settings\n",
    "m2[\"sigma_t\"] = adpn_prob.jax_sigma_t\n",
    "m2[\"h_i\"] = adpn_prob.jax_h_i\n",
    "m2[\"q_i_k_j\"] = adpn_prob.jax_q_i_k_j\n",
    "m2['total_dofs'] = adpn_prob.dofs_per_eg\n",
    "\n",
    "generate_A(adpn_prob.global_settings, adpn_prob.dofs_per_eg, m2, 0.9)"
   ]
  }
 ],
 "metadata": {
  "kernelspec": {
   "display_name": "japn",
   "language": "python",
   "name": "python3"
  },
  "language_info": {
   "codemirror_mode": {
    "name": "ipython",
    "version": 3
   },
   "file_extension": ".py",
   "mimetype": "text/x-python",
   "name": "python",
   "nbconvert_exporter": "python",
   "pygments_lexer": "ipython3",
   "version": "3.13.5"
  }
 },
 "nbformat": 4,
 "nbformat_minor": 5
}
