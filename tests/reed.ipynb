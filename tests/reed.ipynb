{
 "cells": [
  {
   "cell_type": "code",
   "execution_count": null,
   "id": "404c04e4",
   "metadata": {},
   "outputs": [],
   "source": [
    "import numpy as np\n",
    "import basix\n",
    "import matplotlib.pyplot as plt\n",
    "%load_ext autoreload\n",
    "%autoreload 2"
   ]
  },
  {
   "cell_type": "code",
   "execution_count": null,
   "id": "facaa52c",
   "metadata": {},
   "outputs": [],
   "source": [
    "from basix import CellType, ElementFamily, LagrangeVariant, LatticeType\n",
    "import numpy as np\n",
    "import matplotlib.pyplot as plt\n",
    "import bbax"
   ]
  },
  {
   "cell_type": "code",
   "execution_count": null,
   "id": "0387727d",
   "metadata": {},
   "outputs": [],
   "source": []
  },
  {
   "cell_type": "code",
   "execution_count": null,
   "id": "5559fb25",
   "metadata": {},
   "outputs": [],
   "source": [
    "from scipy.sparse import lil_matrix\n",
    "\n",
    "lagrange = basix.create_element(ElementFamily.P, CellType.interval, degree= 5, lagrange_variant= LagrangeVariant.gll_warped)\n",
    "regions = [\n",
    "    (2.0, [50.0], np.array([[[0.0]]]), [50.0]),\n",
    "    (1.0, [5.0],  np.array([[[0.0]]]),  [0.0]),\n",
    "    (2.0, [0.0],  np.array([[[0.0]]]),  [0.0]),\n",
    "    (1.0, [1.0],  np.array([[[0.9]]]), [1.0]),\n",
    "    (2.0, [1.0],  np.array([[[0.9]]]), [0.0]),\n",
    "]\n",
    "A, b, nodes= bbax.fem_1d.Create_Matrix_From_Regions(lagrange, regions, elements_per_cm =10, N_max =5, bc = 'reflective', energy_group=0)"
   ]
  },
  {
   "cell_type": "code",
   "execution_count": null,
   "id": "09d63fc3",
   "metadata": {},
   "outputs": [],
   "source": [
    "import numpy as np\n",
    "from scipy.sparse.linalg import spsolve, cg\n",
    "\n",
    "x = spsolve(A.tocsr(), b)\n",
    "# Example usage:\n",
    "# Suppose you want to plot the solution at 1000 points:\n",
    "elem_dofs, _ = bbax.fem_1d.create_dof_matrix_vertex_interior(lagrange, nodes)\n",
    "\n",
    "x_plot = np.linspace(nodes[0], nodes[-1], 1000)\n",
    "u_plot = bbax.fem_1d.interpolate_solution(x_plot, nodes, elem_dofs, x, lagrange)\n",
    "plt.plot(x_plot, u_plot)\n",
    "plt.xlabel(\"x\")\n",
    "plt.ylabel(\"u(x)\")\n",
    "plt.title(\"Interpolated FEM solution\")"
   ]
  },
  {
   "cell_type": "code",
   "execution_count": null,
   "id": "fa69c6b5",
   "metadata": {},
   "outputs": [],
   "source": [
    "plt.figure(figsize=(10, 10))\n",
    "plt.spy(A, markersize=1)"
   ]
  }
 ],
 "metadata": {
  "kernelspec": {
   "display_name": "bbax",
   "language": "python",
   "name": "python3"
  },
  "language_info": {
   "codemirror_mode": {
    "name": "ipython",
    "version": 3
   },
   "file_extension": ".py",
   "mimetype": "text/x-python",
   "name": "python",
   "nbconvert_exporter": "python",
   "pygments_lexer": "ipython3",
   "version": "3.13.5"
  }
 },
 "nbformat": 4,
 "nbformat_minor": 5
}
