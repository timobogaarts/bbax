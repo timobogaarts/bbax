{
 "cells": [
  {
   "cell_type": "code",
   "execution_count": 18,
   "id": "404c04e4",
   "metadata": {},
   "outputs": [
    {
     "name": "stdout",
     "output_type": "stream",
     "text": [
      "The autoreload extension is already loaded. To reload it, use:\n",
      "  %reload_ext autoreload\n"
     ]
    }
   ],
   "source": [
    "import numpy as np\n",
    "import basix\n",
    "import matplotlib.pyplot as plt\n",
    "from basix import CellType, ElementFamily, LagrangeVariant, LatticeType\n",
    "import jax_pn\n",
    "from jax.experimental import sparse\n",
    "%load_ext autoreload\n",
    "%autoreload 2"
   ]
  },
  {
   "cell_type": "code",
   "execution_count": 21,
   "id": "5559fb25",
   "metadata": {},
   "outputs": [
    {
     "name": "stdout",
     "output_type": "stream",
     "text": [
      "Solving system with shape: (960024, 960024) and 960024 equations.\n"
     ]
    },
    {
     "data": {
      "text/plain": [
       "array([ 5.0787842e-01,  5.3826898e-01,  5.6561202e-01, ...,\n",
       "        3.6978963e-06, -4.7234062e-07, -2.2937952e-06],\n",
       "      shape=(960024,), dtype=float32)"
      ]
     },
     "execution_count": 21,
     "metadata": {},
     "output_type": "execute_result"
    }
   ],
   "source": [
    "lagrange    = basix.create_element(ElementFamily.P, CellType.interval, degree= 10, lagrange_variant= LagrangeVariant.gll_warped)\n",
    "N_max = 11\n",
    "elements_per_cm = 1000\n",
    "regions = [\n",
    "    (2.0, [20.0], np.array([[[0.0]]]), [20.0]),\n",
    "    (1.0, [1.0],  np.array([[[0.0]]]),  [0.0]),\n",
    "    (2.0, [0.0],  np.array([[[0.0]]]),  [0.0]),\n",
    "    (1.0, [1.0],  np.array([[[0.9]]]), [1.0]),\n",
    "    (2.0, [1.0],  np.array([[[0.9]]]), [0.0]),\n",
    "]\n",
    "\n",
    "\n",
    "dpn_prob = jax_pn.DPN.DPN_Problem.from_regions_per_cm(regions, elements_per_cm, N_max, lagrange, L_scat=0)\n",
    "pn_prob  = jax_pn.PN.PN_Problem.from_regions_per_cm(regions, elements_per_cm, N_max, lagrange, L_scat=0)\n",
    "adpn_prob = jax_pn.ADPN.ADPN_Problem.from_regions_per_cm(regions, elements_per_cm, N_max, lagrange, L_scat=0)\n",
    "\n",
    "adpn_prob.Solve_Multigroup_System('vacuum',1)#Assemble_Single_Energy_Group(0,\"vacuum\")"
   ]
  },
  {
   "cell_type": "code",
   "execution_count": null,
   "id": "7d375bc4",
   "metadata": {},
   "outputs": [],
   "source": []
  },
  {
   "cell_type": "code",
   "execution_count": 20,
   "id": "d3b380a7",
   "metadata": {},
   "outputs": [],
   "source": [
    "# adpn_prob.Solve_Multigroup_System(\"vacuum\", 1)\n",
    "# dpn_prob.Solve_Multigroup_System(\"vacuum\", 1)\n",
    "# pn_prob.Solve_Multigroup_System(\"vacuum\", 1)\n",
    "\n",
    "# xplot = np.linspace(0, 8, 2000)\n",
    "# aflux_PN  = pn_prob.interpolate_solution(xplot, k= 0, energy_group = 0)\n",
    "# aflux_DPN = 0.5 * (dpn_prob.interpolate_solution(xplot, k= 0, mu_sign = -1, energy_group = 0) + dpn_prob.interpolate_solution(xplot, k= 0, mu_sign = 1, energy_group = 0))\n",
    "# aflux_ADPN = adpn_prob.interpolate_solution(xplot, k= 0, energy_group = 0)\n",
    "\n",
    "# plt.plot(xplot, aflux_PN, label= \"PN\")\n",
    "\n",
    "# plt.plot(xplot, aflux_DPN, label= \"DPN\")\n",
    "# plt.plot(xplot, aflux_ADPN, label= \"JAX - PN\")\n",
    "# plt.legend()\n",
    "# plt.xlabel(\"x [cm]\")\n",
    "\n",
    "# plt.ylabel(\"$\\\\phi$\")\n",
    "\n",
    "# plt.grid()\n"
   ]
  },
  {
   "cell_type": "code",
   "execution_count": null,
   "id": "88c9a9ab",
   "metadata": {},
   "outputs": [],
   "source": []
  }
 ],
 "metadata": {
  "kernelspec": {
   "display_name": "bbax",
   "language": "python",
   "name": "python3"
  },
  "language_info": {
   "codemirror_mode": {
    "name": "ipython",
    "version": 3
   },
   "file_extension": ".py",
   "mimetype": "text/x-python",
   "name": "python",
   "nbconvert_exporter": "python",
   "pygments_lexer": "ipython3",
   "version": "3.13.5"
  }
 },
 "nbformat": 4,
 "nbformat_minor": 5
}
