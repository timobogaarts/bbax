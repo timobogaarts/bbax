{
 "cells": [
  {
   "cell_type": "code",
   "execution_count": 1,
   "id": "404c04e4",
   "metadata": {},
   "outputs": [],
   "source": [
    "import numpy as np\n",
    "import basix\n",
    "import matplotlib.pyplot as plt\n",
    "from basix import CellType, ElementFamily, LagrangeVariant, LatticeType\n",
    "import jax_pn\n",
    "from jax_pn.ADPN import GlobalSettings\n",
    "import jax\n",
    "import jax.numpy as jnp\n",
    "%load_ext autoreload\n",
    "%autoreload 2\n",
    "jax.config.update(\"jax_enable_x64\", True)"
   ]
  },
  {
   "cell_type": "code",
   "execution_count": 2,
   "id": "0387727d",
   "metadata": {},
   "outputs": [],
   "source": [
    "factor = 3.0\n",
    "m_cm = 1/100\n",
    "water = (np.array([15.2090, 24.4140]) * m_cm,\n",
    "         np.array([[[5.5069 , 0.0   ],\n",
    "                  [6.6227, 11.4080]],\n",
    "                  [[3.4757 /factor,  0.0    /factor],\n",
    "                   [3.7043 /factor,  6.7420 /factor]]]) * m_cm)\n",
    "\n",
    "iron = (np.array([30.3110, 26.8760]) * m_cm,\n",
    "        np.array([[[18.250, 0.0   ],\n",
    "                   [6.4496, 21.3570]],\n",
    "                  [[13.0890  /factor ,  0.0  /factor],\n",
    "                   [-0.010523/factor ,7.0373 /factor]]]) * m_cm\n",
    ")\n",
    "\n",
    "void = (np.array([0.0, 0.0]),\n",
    "        np.array([[[0.0, 0.0],\n",
    "                   [0.0, 0.0]],\n",
    "                  [[0.0, 0.0],    \n",
    "                   [0.0, 0.0]]]))\n",
    "\n",
    "source = np.array([0.097702, 0.45451])\n",
    "zero_source = np.array([0.0, 0.0])"
   ]
  },
  {
   "cell_type": "code",
   "execution_count": 3,
   "id": "610edc33",
   "metadata": {},
   "outputs": [],
   "source": [
    "\n",
    "lagrange    = basix.create_element(ElementFamily.P, CellType.interval, degree= 5, lagrange_variant= LagrangeVariant.gll_warped)\n",
    "N_max = 5\n",
    "\n",
    "regions = [\n",
    "    (20, *water, zero_source), \n",
    "    (10, *water, source ),\n",
    "    (50, *water, zero_source),\n",
    "    (20, *iron,  zero_source),\n",
    "    (10, *void, zero_source),\n",
    "    (10, *water, zero_source),\n",
    "    (10, *void,  zero_source)\n",
    "]\n",
    "elements_per_cm = 1.0\n",
    "\n"
   ]
  },
  {
   "cell_type": "code",
   "execution_count": 4,
   "id": "e12768cc",
   "metadata": {},
   "outputs": [
    {
     "name": "stdout",
     "output_type": "stream",
     "text": [
      "Solving system with shape: (7824, 7824) and 7824 equations.\n"
     ]
    }
   ],
   "source": [
    "adpn_prob = jax_pn.ADPN.ADPN_Problem.from_regions_per_cm(regions, elements_per_cm, N_max, lagrange, L_scat=1)\n",
    "solution  = adpn_prob.Solve_Multigroup_System('vacuum',2) \n"
   ]
  },
  {
   "cell_type": "code",
   "execution_count": 12,
   "id": "1a7f0031",
   "metadata": {},
   "outputs": [],
   "source": [
    "from jax_pn.ADPN import vmap_local_residual_PN_eg, residual_bc_marshak_eg_jit\n",
    "def residualPN_eg(global_settings : GlobalSettings, matrix_settings, parameters_eg, solution):\n",
    "      # shape: (n_elems, n_moments, n_local_dofs)\n",
    "    moments = jnp.arange(global_settings.n_moments)\n",
    "    elems   = jnp.arange(global_settings.n_elements)\n",
    "    # Compute global indices for all (elem, moment, dof)\n",
    "    n_moments     = global_settings.n_moments    \n",
    "    n_global_dofs = global_settings.n_global_dofs\n",
    "    n_groups      = global_settings.n_energy_groups\n",
    "\n",
    "    eg = jnp.arange(n_groups)\n",
    "\n",
    "    local_residuals = vmap_local_residual_PN_eg(\n",
    "        eg,\n",
    "        moments,\n",
    "        elems,\n",
    "        global_settings,\n",
    "        matrix_settings,\n",
    "        parameters_eg,\n",
    "        solution\n",
    "    )    \n",
    "    global_residual = jnp.zeros_like(solution)\n",
    "\n",
    "    for g in range(n_groups):\n",
    "        \n",
    "        offset_g = global_settings.n_dofs_per_eg * g\n",
    "        for k in range(n_moments):            \n",
    "            offset_k = offset_g + global_settings.n_global_dofs * k\n",
    "\n",
    "            global_dof_indices = matrix_settings[\"elem_dof_matrix\"] + offset_k\n",
    "            global_residual    = global_residual.at[global_dof_indices].add(local_residuals[:, k, g, :])\n",
    "        \n",
    "        bcs = residual_bc_marshak_eg_jit(\n",
    "            g,\n",
    "            global_settings,\n",
    "            matrix_settings,            \n",
    "            solution,            \n",
    "        )    \n",
    "        global_residual = global_residual.at[offset_g + global_settings.n_global_dofs * n_moments : offset_g + global_settings.n_global_dofs * n_moments + n_moments].add(bcs)\n",
    "\n",
    "    return global_residual\n",
    "\n",
    "parameters_eg = {\n",
    "    'sigma_t_i'       : adpn_prob.jax_sigma_t,\n",
    "    'sigma_s_k_i_gg'  : adpn_prob.jax_sigma_s,\n",
    "    'h_i'             : adpn_prob.jax_h_i,\n",
    "    'q_i_k_j'         : adpn_prob.jax_q_i_k_j\n",
    "}\n",
    "\n",
    "total_residuals = residualPN_eg(adpn_prob.global_settings, adpn_prob.matrix_settings, parameters_eg, solution)\n",
    "jac_A    = jax.jit(jax.jacfwd(residualPN_eg, argnums = (3,)), static_argnums = 0)"
   ]
  },
  {
   "cell_type": "code",
   "execution_count": 6,
   "id": "1fddec7c",
   "metadata": {},
   "outputs": [],
   "source": [
    "\n",
    "drdx = jac_A(adpn_prob.global_settings, adpn_prob.matrix_settings, parameters_eg, solution)[0]"
   ]
  },
  {
   "cell_type": "code",
   "execution_count": 7,
   "id": "e8517b02",
   "metadata": {},
   "outputs": [],
   "source": [
    "anormal = adpn_prob.assemble_multigroup_system('vacuum', 2)[0]"
   ]
  },
  {
   "cell_type": "code",
   "execution_count": 8,
   "id": "a9d31056",
   "metadata": {},
   "outputs": [
    {
     "name": "stdout",
     "output_type": "stream",
     "text": [
      "0.0\n"
     ]
    }
   ],
   "source": [
    "first_eg = 0#adpn_prob.global_settings.n_dofs_per_eg\n",
    "print(np.max(np.abs(anormal.todense()[first_eg:, first_eg:] - drdx[first_eg:,  first_eg: ])))"
   ]
  },
  {
   "cell_type": "code",
   "execution_count": 11,
   "id": "75ea8269",
   "metadata": {},
   "outputs": [
    {
     "name": "stderr",
     "output_type": "stream",
     "text": [
      "/tmp/ipykernel_132820/941295518.py:5: UserWarning: Attempt to set non-positive ylim on a log-scaled axis will be ignored.\n",
      "  plt.ylim(0,1)\n"
     ]
    },
    {
     "data": {
      "image/png": "[encoded data removed]",
      "text/plain": [
       "<Figure size 640x480 with 1 Axes>"
      ]
     },
     "metadata": {},
     "output_type": "display_data"
    }
   ],
   "source": [
    "\n",
    "plt.semilogy(1e4 *(adpn_prob.interpolate_solution(np.linspace(0,130, 100), energy_group = 0, k = 0)),'r')\n",
    "plt.semilogy(1e4 *(adpn_prob.interpolate_solution(np.linspace(0,130, 100), energy_group = 1, k = 0)),'b')\n",
    "\n",
    "\n",
    "plt.ylim(0,1)\n",
    "plt.ylim(1e-4,1e5)\n",
    "plt.grid(which='both')"
   ]
  },
  {
   "cell_type": "markdown",
   "id": "2e44352a",
   "metadata": {},
   "source": []
  }
 ],
 "metadata": {
  "kernelspec": {
   "display_name": "japn",
   "language": "python",
   "name": "python3"
  },
  "language_info": {
   "codemirror_mode": {
    "name": "ipython",
    "version": 3
   },
   "file_extension": ".py",
   "mimetype": "text/x-python",
   "name": "python",
   "nbconvert_exporter": "python",
   "pygments_lexer": "ipython3",
   "version": "3.13.5"
  }
 },
 "nbformat": 4,
 "nbformat_minor": 5
}
