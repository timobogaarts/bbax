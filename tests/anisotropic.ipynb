{
 "cells": [
  {
   "cell_type": "code",
   "execution_count": null,
   "id": "404c04e4",
   "metadata": {},
   "outputs": [],
   "source": [
    "import numpy as np\n",
    "import basix\n",
    "import matplotlib.pyplot as plt\n",
    "%load_ext autoreload\n",
    "%autoreload 2"
   ]
  },
  {
   "cell_type": "code",
   "execution_count": null,
   "id": "facaa52c",
   "metadata": {},
   "outputs": [],
   "source": [
    "from basix import CellType, ElementFamily, LagrangeVariant, LatticeType\n",
    "import numpy as np\n",
    "import matplotlib.pyplot as plt\n",
    "import bbax"
   ]
  },
  {
   "cell_type": "code",
   "execution_count": null,
   "id": "0387727d",
   "metadata": {},
   "outputs": [],
   "source": [
    "factor = 3.0\n",
    "m_cm = 1/100\n",
    "water = (np.array([15.2090, 24.4140]) * m_cm,\n",
    "         np.array([[[5.5069 , 0.0   ],\n",
    "                  [6.6227, 11.4080]],\n",
    "                  [[3.4757 /factor,  0.0    /factor],\n",
    "                   [3.7043 /factor,  6.7420 /factor]]]) * m_cm)\n",
    "\n",
    "iron = (np.array([30.3110, 26.8760]) * m_cm,\n",
    "        np.array([[[18.250, 0.0   ],\n",
    "                   [6.4496, 21.3570]],\n",
    "                  [[13.0890  /factor ,  0.0  /factor],\n",
    "                   [-0.010523/factor ,7.0373 /factor]]]) * m_cm\n",
    ")\n",
    "\n",
    "void = (np.array([0.0, 0.0]),\n",
    "        np.array([[[0.0, 0.0],\n",
    "                   [0.0, 0.0]],\n",
    "                  [[0.0, 0.0],    \n",
    "                   [0.0, 0.0]]]))\n",
    "\n",
    "source = np.array([0.097702, 0.45451])\n",
    "zero_source = np.array([0.0, 0.0])\n",
    "\n",
    "regions = [\n",
    "    (20, *water, zero_source),\n",
    "    (10, *water, source ),\n",
    "    (50, *water, zero_source),\n",
    "    (20, *iron,  zero_source),\n",
    "    (10, *void,  zero_source),\n",
    "    (10, *water, zero_source),\n",
    "    (10, *void,  zero_source)\n",
    "]\n",
    "elements_per_cm = 1\n",
    "\n",
    "\n"
   ]
  },
  {
   "cell_type": "code",
   "execution_count": null,
   "id": "610edc33",
   "metadata": {},
   "outputs": [],
   "source": [
    "\n",
    "lagrange    = basix.create_element(ElementFamily.P, CellType.interval, degree= 3, lagrange_variant= LagrangeVariant.gll_warped)\n",
    "A, b, nodes = bbax.fem_1d.Create_Matrix_From_Regions(lagrange, regions, elements_per_cm, N_max=5, bc = \"reflective\", energy_group= 0)"
   ]
  },
  {
   "cell_type": "code",
   "execution_count": null,
   "id": "09d63fc3",
   "metadata": {},
   "outputs": [],
   "source": [
    "import numpy as np\n",
    "from scipy.sparse.linalg import spsolve, cg\n",
    "\n",
    "x = spsolve(A.tocsr(), b)\n",
    "# Example usage:\n",
    "# Suppose you want to plot the solution at 1000 points:\n",
    "elem_dofs, _ = bbax.fem_1d.create_dof_matrix_vertex_interior(lagrange, nodes)\n",
    "\n",
    "x_plot = np.linspace(nodes[0], nodes[-1], 1000)\n",
    "u_plot = bbax.fem_1d.interpolate_solution(x_plot, nodes, elem_dofs, x, lagrange)\n",
    "plt.plot(x_plot, u_plot * 1e4)\n",
    "plt.xlabel(\"x\")\n",
    "plt.ylabel(\"u(x)\")\n",
    "plt.title(\"Interpolated FEM solution\")\n",
    "plt.yscale('log')"
   ]
  },
  {
   "cell_type": "code",
   "execution_count": null,
   "id": "fa69c6b5",
   "metadata": {},
   "outputs": [],
   "source": [
    "plt.figure(figsize=(10, 10))\n",
    "plt.spy(A, markersize=1)"
   ]
  }
 ],
 "metadata": {
  "kernelspec": {
   "display_name": "bbax",
   "language": "python",
   "name": "python3"
  },
  "language_info": {
   "codemirror_mode": {
    "name": "ipython",
    "version": 3
   },
   "file_extension": ".py",
   "mimetype": "text/x-python",
   "name": "python",
   "nbconvert_exporter": "python",
   "pygments_lexer": "ipython3",
   "version": "3.13.5"
  }
 },
 "nbformat": 4,
 "nbformat_minor": 5
}
