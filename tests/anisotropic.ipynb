{
 "cells": [
  {
   "cell_type": "code",
   "execution_count": 1,
   "id": "404c04e4",
   "metadata": {},
   "outputs": [],
   "source": [
    "import numpy as np\n",
    "import basix\n",
    "import matplotlib.pyplot as plt\n",
    "%load_ext autoreload\n",
    "%autoreload 2"
   ]
  },
  {
   "cell_type": "code",
   "execution_count": 2,
   "id": "facaa52c",
   "metadata": {},
   "outputs": [],
   "source": [
    "from basix import CellType, ElementFamily, LagrangeVariant, LatticeType\n",
    "import numpy as np\n",
    "import matplotlib.pyplot as plt\n",
    "import bbax"
   ]
  },
  {
   "cell_type": "code",
   "execution_count": 3,
   "id": "0387727d",
   "metadata": {},
   "outputs": [],
   "source": [
    "factor = 3.0\n",
    "m_cm = 1/100\n",
    "water = (np.array([15.2090, 24.4140]) * m_cm,\n",
    "         np.array([[[5.5069 , 0.0   ],\n",
    "                  [6.6227, 11.4080]],\n",
    "                  [[3.4757 /factor,  0.0    /factor],\n",
    "                   [3.7043 /factor,  6.7420 /factor]]]) * m_cm)\n",
    "\n",
    "iron = (np.array([30.3110, 26.8760]) * m_cm,\n",
    "        np.array([[[18.250, 0.0   ],\n",
    "                   [6.4496, 21.3570]],\n",
    "                  [[13.0890  /factor ,  0.0  /factor],\n",
    "                   [-0.010523/factor ,7.0373 /factor]]]) * m_cm\n",
    ")\n",
    "\n",
    "void = (np.array([0.0, 0.0]),\n",
    "        np.array([[[0.0, 0.0],\n",
    "                   [0.0, 0.0]],\n",
    "                  [[0.0, 0.0],    \n",
    "                   [0.0, 0.0]]]))\n",
    "\n",
    "source = np.array([0.097702, 0.45451])\n",
    "zero_source = np.array([0.0, 0.0])\n",
    "\n",
    "def truncate_XS(l_max):\n",
    "    def truncate_XS_(xs):\n",
    "        return (xs[0][:l_max+1], xs[1][:l_max+1])\n",
    "    return truncate_XS_\n",
    "\n",
    "\n",
    "\n"
   ]
  },
  {
   "cell_type": "code",
   "execution_count": 12,
   "id": "610edc33",
   "metadata": {},
   "outputs": [
    {
     "name": "stdout",
     "output_type": "stream",
     "text": [
      "[[-5.00000000e-01  3.33333333e-02  6.76094396e-01 -2.69079151e-01\n",
      "   1.49645643e-01 -8.99942209e-02]\n",
      " [-3.33333333e-02  5.00000000e-01  8.99942209e-02 -1.49645643e-01\n",
      "   2.69079151e-01 -6.76094396e-01]\n",
      " [-6.76094396e-01 -8.99942209e-02  3.61689845e-16  9.55053839e-01\n",
      "  -4.36316587e-01  2.47351364e-01]\n",
      " [ 2.69079151e-01  1.49645643e-01 -9.55053839e-01  2.73652628e-16\n",
      "   9.72645632e-01 -4.36316587e-01]\n",
      " [-1.49645643e-01 -2.69079151e-01  4.36316587e-01 -9.72645632e-01\n",
      "  -2.20309881e-16  9.55053839e-01]\n",
      " [ 8.99942209e-02  6.76094396e-01 -2.47351364e-01  4.36316587e-01\n",
      "  -9.55053839e-01 -1.66533454e-15]]\n"
     ]
    }
   ],
   "source": [
    "\n",
    "lagrange    = basix.create_element(ElementFamily.P, CellType.interval, degree= 5, lagrange_variant= LagrangeVariant.gll_warped)\n",
    "N_max = 5\n",
    "L_xs = 0\n",
    "tr = truncate_XS(L_xs)\n",
    "regions = [\n",
    "    (20, *tr(water), zero_source), \n",
    "    (10, *tr(water), source ),\n",
    "    (50, *tr(water), zero_source),\n",
    "    (20, *tr(iron),  zero_source),\n",
    "    (10, *tr(void), zero_source),\n",
    "    (10, *tr(water), zero_source),\n",
    "    (10, *tr(void),  zero_source)\n",
    "]\n",
    "elements_per_cm = 1\n",
    "\n",
    "\n",
    "APN, bPN, nodes = bbax.PN.Create_PN_Matrix_From_Regions(lagrange, regions, elements_per_cm, N_max=N_max, bc = \"marshak\", energy_group= 0)\n",
    "\n",
    "ADPN, bDPN, nodes = bbax.DPN.Create_DPN_Matrix_From_Regions(lagrange, regions, elements_per_cm, N_max=N_max, bc = \"vacuum\", energy_group= 0, L_scat= 1)"
   ]
  },
  {
   "cell_type": "code",
   "execution_count": null,
   "id": "09d63fc3",
   "metadata": {},
   "outputs": [],
   "source": [
    "import numpy as np\n",
    "from scipy.sparse.linalg import spsolve, cg\n",
    "\n",
    "import bbax.FEM1D\n",
    "\n",
    "x = spsolve(APN.tocsr(), bPN)\n",
    "elem_dofs, _ = bbax.FEM1D.create_dof_matrix_vertex_interior(lagrange, nodes)\n",
    "x_plot = np.linspace(nodes[0], nodes[-1], 1000)\n",
    "u_plot = bbax.PN.interpolate_PN_solution(x_plot, nodes, elem_dofs, x, lagrange, N_max)\n",
    "plt.plot(x_plot, u_plot * 1e4)\n",
    "\n",
    "x = spsolve(ADPN.tocsr(), bDPN)\n",
    "elem_dofs, _ = bbax.FEM1D.create_dof_matrix_vertex_interior(lagrange, nodes)\n",
    "x_plot = np.linspace(nodes[0], nodes[-1], 1000)\n",
    "u_plot = 0.5 * (bbax.DPN.interpolate_DPN_solution(x_plot, nodes, elem_dofs, x, lagrange, N_max, 0, -1) + bbax.DPN.interpolate_DPN_solution(x_plot, nodes, elem_dofs, x, lagrange, N_max, 0, 1))\n",
    "\n",
    "plt.plot(x_plot, u_plot * 1e4)\n",
    "plt.xlabel(\"x\")\n",
    "plt.ylabel(\"u(x)\")\n",
    "plt.title(\"Interpolated FEM solution\")\n",
    "plt.yscale('log')"
   ]
  },
  {
   "cell_type": "code",
   "execution_count": 6,
   "id": "fa69c6b5",
   "metadata": {},
   "outputs": [
    {
     "ename": "NameError",
     "evalue": "name 'A' is not defined",
     "output_type": "error",
     "traceback": [
      "\u001b[31m---------------------------------------------------------------------------\u001b[39m",
      "\u001b[31mNameError\u001b[39m                                 Traceback (most recent call last)",
      "\u001b[36mCell\u001b[39m\u001b[36m \u001b[39m\u001b[32mIn[6]\u001b[39m\u001b[32m, line 2\u001b[39m\n\u001b[32m      1\u001b[39m plt.figure(figsize=(\u001b[32m10\u001b[39m, \u001b[32m10\u001b[39m))\n\u001b[32m----> \u001b[39m\u001b[32m2\u001b[39m plt.spy(\u001b[43mA\u001b[49m, markersize=\u001b[32m1\u001b[39m)\n",
      "\u001b[31mNameError\u001b[39m: name 'A' is not defined"
     ]
    },
    {
     "data": {
      "text/plain": [
       "<Figure size 1000x1000 with 0 Axes>"
      ]
     },
     "metadata": {},
     "output_type": "display_data"
    }
   ],
   "source": [
    "plt.figure(figsize=(10, 10))\n",
    "plt.spy(A, markersize=1)"
   ]
  }
 ],
 "metadata": {
  "kernelspec": {
   "display_name": "bbax",
   "language": "python",
   "name": "python3"
  },
  "language_info": {
   "codemirror_mode": {
    "name": "ipython",
    "version": 3
   },
   "file_extension": ".py",
   "mimetype": "text/x-python",
   "name": "python",
   "nbconvert_exporter": "python",
   "pygments_lexer": "ipython3",
   "version": "3.13.5"
  }
 },
 "nbformat": 4,
 "nbformat_minor": 5
}
